{
 "cells": [
  {
   "attachments": {},
   "cell_type": "markdown",
   "metadata": {},
   "source": [
    "Q1. What is an API? Give an example, where an API is used in real life."
   ]
  },
  {
   "attachments": {},
   "cell_type": "markdown",
   "metadata": {},
   "source": [
    "appliction progrming interface.is use to connection between one data base to another data base.\n",
    "like google pay and mail."
   ]
  },
  {
   "attachments": {},
   "cell_type": "markdown",
   "metadata": {},
   "source": [
    "Q2. Give advantages and disadvantages of using API."
   ]
  },
  {
   "attachments": {},
   "cell_type": "markdown",
   "metadata": {},
   "source": [
    "Modularity and Reusability: APIs allow developers to create modular and reusable code. By exposing specific functionalities through APIs, developers can build applications that can easily integrate and interact with other systems or services, saving time and effort.\n",
    "\n",
    "Dependency and Reliability: When applications rely on external APIs, they become dependent on the availability and reliability of those APIs. If an API experiences downtime or undergoes changes that are incompatible with the application, it can disrupt the functionality or even render the application unusable."
   ]
  },
  {
   "attachments": {},
   "cell_type": "markdown",
   "metadata": {},
   "source": [
    "Q3. What is a Web API? Differentiate between API and Web API."
   ]
  },
  {
   "attachments": {},
   "cell_type": "markdown",
   "metadata": {},
   "source": [
    "appliction progrming interface.is use to connection between one data base to another data base.\n",
    "An API, in its general sense, refers to a set of rules and protocols that define how software components or systems should interact with each other. \n",
    "\n",
    "Web API specifically refers to an API that is designed to be accessed over the web using the HTTP (Hypertext Transfer Protocol)."
   ]
  }
 ],
 "metadata": {
  "language_info": {
   "name": "python"
  },
  "orig_nbformat": 4
 },
 "nbformat": 4,
 "nbformat_minor": 2
}
